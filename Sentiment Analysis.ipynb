{
 "cells": [
  {
   "cell_type": "markdown",
   "metadata": {
    "id": "I_MAG2AfcxXh"
   },
   "source": [
    "# Import Libraries"
   ]
  },
  {
   "cell_type": "code",
   "execution_count": 322,
   "metadata": {
    "id": "A3Ac4vjNfiyA"
   },
   "outputs": [],
   "source": [
    "import numpy as np\n",
    "import pandas as pd\n",
    "import re\n",
    "import matplotlib.pyplot as plt\n",
    "import seaborn as sns"
   ]
  },
  {
   "cell_type": "code",
   "execution_count": 323,
   "metadata": {
    "colab": {
     "base_uri": "https://localhost:8080/",
     "height": 424
    },
    "id": "SpL47WhraF0X",
    "outputId": "3bc37eb7-a4a4-48a7-9755-c8a89ef8cb39"
   },
   "outputs": [
    {
     "data": {
      "text/html": [
       "<div>\n",
       "<style scoped>\n",
       "    .dataframe tbody tr th:only-of-type {\n",
       "        vertical-align: middle;\n",
       "    }\n",
       "\n",
       "    .dataframe tbody tr th {\n",
       "        vertical-align: top;\n",
       "    }\n",
       "\n",
       "    .dataframe thead th {\n",
       "        text-align: right;\n",
       "    }\n",
       "</style>\n",
       "<table border=\"1\" class=\"dataframe\">\n",
       "  <thead>\n",
       "    <tr style=\"text-align: right;\">\n",
       "      <th></th>\n",
       "      <th>Sentiment</th>\n",
       "      <th>comment</th>\n",
       "    </tr>\n",
       "  </thead>\n",
       "  <tbody>\n",
       "    <tr>\n",
       "      <th>0</th>\n",
       "      <td>2</td>\n",
       "      <td>به هیچ‌ وجه قصد توهین و بی ادبی ندارم ولی مشخص...</td>\n",
       "    </tr>\n",
       "    <tr>\n",
       "      <th>1</th>\n",
       "      <td>5</td>\n",
       "      <td>الان  1 سال هست که از این شارژر هر روز استفاده...</td>\n",
       "    </tr>\n",
       "    <tr>\n",
       "      <th>2</th>\n",
       "      <td>4</td>\n",
       "      <td>امروز از دیجی در تخفیف خریدم ، اول که زیپش را ...</td>\n",
       "    </tr>\n",
       "    <tr>\n",
       "      <th>3</th>\n",
       "      <td>3</td>\n",
       "      <td>این گوشی از لحاظ ساخت با اس 8 فرق زیادی نداره ...</td>\n",
       "    </tr>\n",
       "    <tr>\n",
       "      <th>4</th>\n",
       "      <td>4</td>\n",
       "      <td>درود\\nمن یک تصادف جزئی داشتم که قسمتی از سپر ک...</td>\n",
       "    </tr>\n",
       "    <tr>\n",
       "      <th>...</th>\n",
       "      <td>...</td>\n",
       "      <td>...</td>\n",
       "    </tr>\n",
       "    <tr>\n",
       "      <th>9532</th>\n",
       "      <td>2</td>\n",
       "      <td>بوی بد پدسلولزی افتضاحه .اولی رو از دی جی کالا...</td>\n",
       "    </tr>\n",
       "    <tr>\n",
       "      <th>9533</th>\n",
       "      <td>3</td>\n",
       "      <td>من امروز این محصول بدستم رسید. همه چیش خوب بود...</td>\n",
       "    </tr>\n",
       "    <tr>\n",
       "      <th>9534</th>\n",
       "      <td>4</td>\n",
       "      <td>سطل زباله معمولا تو سرویس از بقیه زودتر خراب م...</td>\n",
       "    </tr>\n",
       "    <tr>\n",
       "      <th>9535</th>\n",
       "      <td>5</td>\n",
       "      <td>اول این که این محصول بسته بندی تمیز و مرتبی دا...</td>\n",
       "    </tr>\n",
       "    <tr>\n",
       "      <th>9536</th>\n",
       "      <td>5</td>\n",
       "      <td>من در چند مرحله این محصول با کیفیت ایرانی خرید...</td>\n",
       "    </tr>\n",
       "  </tbody>\n",
       "</table>\n",
       "<p>9537 rows × 2 columns</p>\n",
       "</div>"
      ],
      "text/plain": [
       "      Sentiment                                            comment\n",
       "0             2  به هیچ‌ وجه قصد توهین و بی ادبی ندارم ولی مشخص...\n",
       "1             5  الان  1 سال هست که از این شارژر هر روز استفاده...\n",
       "2             4  امروز از دیجی در تخفیف خریدم ، اول که زیپش را ...\n",
       "3             3  این گوشی از لحاظ ساخت با اس 8 فرق زیادی نداره ...\n",
       "4             4  درود\\nمن یک تصادف جزئی داشتم که قسمتی از سپر ک...\n",
       "...         ...                                                ...\n",
       "9532          2  بوی بد پدسلولزی افتضاحه .اولی رو از دی جی کالا...\n",
       "9533          3  من امروز این محصول بدستم رسید. همه چیش خوب بود...\n",
       "9534          4  سطل زباله معمولا تو سرویس از بقیه زودتر خراب م...\n",
       "9535          5  اول این که این محصول بسته بندی تمیز و مرتبی دا...\n",
       "9536          5  من در چند مرحله این محصول با کیفیت ایرانی خرید...\n",
       "\n",
       "[9537 rows x 2 columns]"
      ]
     },
     "execution_count": 323,
     "metadata": {},
     "output_type": "execute_result"
    }
   ],
   "source": [
    "dataset = pd.read_csv(\"dataset_ml_final.csv\")\n",
    "dataset"
   ]
  },
  {
   "cell_type": "markdown",
   "metadata": {
    "id": "TUvhjaLxc5iz"
   },
   "source": [
    "# Statistical Analysis"
   ]
  },
  {
   "cell_type": "code",
   "execution_count": 324,
   "metadata": {
    "colab": {
     "base_uri": "https://localhost:8080/"
    },
    "id": "8MZJubFuaXbA",
    "outputId": "f120dba4-0ca6-4816-d4e8-438fda6a89d9"
   },
   "outputs": [
    {
     "data": {
      "text/plain": [
       "{5: 3186, 4: 2178, 2: 1726, 3: 1331, 1: 1116}"
      ]
     },
     "execution_count": 324,
     "metadata": {},
     "output_type": "execute_result"
    }
   ],
   "source": [
    "dict(dataset[\"Sentiment\"].value_counts())"
   ]
  },
  {
   "cell_type": "code",
   "execution_count": 325,
   "metadata": {
    "colab": {
     "base_uri": "https://localhost:8080/",
     "height": 265
    },
    "id": "yunjLpJBPfRG",
    "outputId": "94cf4749-e813-4fc3-a65e-fa884e76ffd4"
   },
   "outputs": [
    {
     "data": {
      "image/png": "[encoded data removed]",
      "text/plain": [
       "<Figure size 432x288 with 1 Axes>"
      ]
     },
     "metadata": {
      "needs_background": "light"
     },
     "output_type": "display_data"
    }
   ],
   "source": [
    "plt.bar(dict(dataset[\"Sentiment\"].value_counts()).keys(), dict(dataset[\"Sentiment\"].value_counts()).values(), color='g')\n",
    "plt.show()"
   ]
  },
  {
   "cell_type": "code",
   "execution_count": 326,
   "metadata": {
    "colab": {
     "base_uri": "https://localhost:8080/"
    },
    "id": "dNPYY5LPBd04",
    "outputId": "60e1dd92-a930-480f-ba2d-7cd0ae745b1e"
   },
   "outputs": [
    {
     "data": {
      "text/plain": [
       "1907.4"
      ]
     },
     "execution_count": 326,
     "metadata": {},
     "output_type": "execute_result"
    }
   ],
   "source": [
    "dataset[\"Sentiment\"].value_counts().mean()"
   ]
  },
  {
   "cell_type": "markdown",
   "metadata": {
    "id": "b2rnVFAedQpj"
   },
   "source": [
    "# Create Balanced Dataset"
   ]
  },
  {
   "cell_type": "code",
   "execution_count": 327,
   "metadata": {
    "id": "R9IADvUuBnN_"
   },
   "outputs": [],
   "source": [
    "sample_label_1 = dataset[dataset['Sentiment']==1].sample(n=int(dataset[\"Sentiment\"].value_counts().mean()), replace=True)\n",
    "# sample_label_1 = dataset[dataset['Sentiment']==1].sample(n=int(dataset[\"Sentiment\"].value_counts().mean()) if \\\n",
    "#                                                          len(dataset[dataset['Sentiment']==1]) < int(dataset[\"Sentiment\"].value_counts().mean()) else \\\n",
    "#                                                          len(dataset[dataset['Sentiment']==1]))\n",
    "\n",
    "\n",
    "sample_label_2 = dataset[dataset['Sentiment']==2].sample(n=int(dataset[\"Sentiment\"].value_counts().mean()), replace=True)\n",
    "sample_label_3 = dataset[dataset['Sentiment']==3].sample(n=int(dataset[\"Sentiment\"].value_counts().mean()), replace=True)\n",
    "sample_label_4 = dataset[dataset['Sentiment']==4].sample(n=int(dataset[\"Sentiment\"].value_counts().mean()))\n",
    "sample_label_5 = dataset[dataset['Sentiment']==5].sample(n=int(dataset[\"Sentiment\"].value_counts().mean()))"
   ]
  },
  {
   "cell_type": "code",
   "execution_count": 328,
   "metadata": {
    "colab": {
     "base_uri": "https://localhost:8080/",
     "height": 424
    },
    "id": "HlqEDgORC0Jv",
    "outputId": "20034300-d099-4d04-e411-a7c3f3fb1504"
   },
   "outputs": [
    {
     "data": {
      "text/html": [
       "<div>\n",
       "<style scoped>\n",
       "    .dataframe tbody tr th:only-of-type {\n",
       "        vertical-align: middle;\n",
       "    }\n",
       "\n",
       "    .dataframe tbody tr th {\n",
       "        vertical-align: top;\n",
       "    }\n",
       "\n",
       "    .dataframe thead th {\n",
       "        text-align: right;\n",
       "    }\n",
       "</style>\n",
       "<table border=\"1\" class=\"dataframe\">\n",
       "  <thead>\n",
       "    <tr style=\"text-align: right;\">\n",
       "      <th></th>\n",
       "      <th>Sentiment</th>\n",
       "      <th>comment</th>\n",
       "    </tr>\n",
       "  </thead>\n",
       "  <tbody>\n",
       "    <tr>\n",
       "      <th>843</th>\n",
       "      <td>1</td>\n",
       "      <td>من امروز به دستم رسید  انتخاب درستی نکردم</td>\n",
       "    </tr>\n",
       "    <tr>\n",
       "      <th>7692</th>\n",
       "      <td>1</td>\n",
       "      <td>ماندگاری بسیار ضعیف\\nانگار اصلا اورجینال نیست</td>\n",
       "    </tr>\n",
       "    <tr>\n",
       "      <th>6661</th>\n",
       "      <td>1</td>\n",
       "      <td>ارزش خریذ نداره</td>\n",
       "    </tr>\n",
       "    <tr>\n",
       "      <th>6532</th>\n",
       "      <td>1</td>\n",
       "      <td>منکه هرچی صبر کردم خبری نشد،پولتونو دور نریزید...</td>\n",
       "    </tr>\n",
       "    <tr>\n",
       "      <th>1752</th>\n",
       "      <td>1</td>\n",
       "      <td>ظاهر خوبی داره ولی کفی داخل کفش اصلا خوب نیست ...</td>\n",
       "    </tr>\n",
       "    <tr>\n",
       "      <th>...</th>\n",
       "      <td>...</td>\n",
       "      <td>...</td>\n",
       "    </tr>\n",
       "    <tr>\n",
       "      <th>8068</th>\n",
       "      <td>5</td>\n",
       "      <td>۹۶۵۰ بی تی همه چی تمومه داشتنش لیاقت میخاد End...</td>\n",
       "    </tr>\n",
       "    <tr>\n",
       "      <th>4050</th>\n",
       "      <td>5</td>\n",
       "      <td>فوق العادست</td>\n",
       "    </tr>\n",
       "    <tr>\n",
       "      <th>6738</th>\n",
       "      <td>5</td>\n",
       "      <td>بخرید عالیه</td>\n",
       "    </tr>\n",
       "    <tr>\n",
       "      <th>3462</th>\n",
       "      <td>5</td>\n",
       "      <td>چند روزی هست که این گوشی رو گرفتم در حد قیمت خ...</td>\n",
       "    </tr>\n",
       "    <tr>\n",
       "      <th>3495</th>\n",
       "      <td>5</td>\n",
       "      <td>من برای بار دوم خریدمش. بسیار عالیه. قدرت ترمی...</td>\n",
       "    </tr>\n",
       "  </tbody>\n",
       "</table>\n",
       "<p>9535 rows × 2 columns</p>\n",
       "</div>"
      ],
      "text/plain": [
       "      Sentiment                                            comment\n",
       "843           1          من امروز به دستم رسید  انتخاب درستی نکردم\n",
       "7692          1      ماندگاری بسیار ضعیف\\nانگار اصلا اورجینال نیست\n",
       "6661          1                                    ارزش خریذ نداره\n",
       "6532          1  منکه هرچی صبر کردم خبری نشد،پولتونو دور نریزید...\n",
       "1752          1  ظاهر خوبی داره ولی کفی داخل کفش اصلا خوب نیست ...\n",
       "...         ...                                                ...\n",
       "8068          5  ۹۶۵۰ بی تی همه چی تمومه داشتنش لیاقت میخاد End...\n",
       "4050          5                                        فوق العادست\n",
       "6738          5                                        بخرید عالیه\n",
       "3462          5  چند روزی هست که این گوشی رو گرفتم در حد قیمت خ...\n",
       "3495          5  من برای بار دوم خریدمش. بسیار عالیه. قدرت ترمی...\n",
       "\n",
       "[9535 rows x 2 columns]"
      ]
     },
     "execution_count": 328,
     "metadata": {},
     "output_type": "execute_result"
    }
   ],
   "source": [
    "dataset_balanced = pd.concat([sample_label_1,sample_label_2,sample_label_3,sample_label_4,sample_label_5])\n",
    "dataset_balanced"
   ]
  },
  {
   "cell_type": "code",
   "execution_count": 329,
   "metadata": {
    "colab": {
     "base_uri": "https://localhost:8080/"
    },
    "id": "X2mTr4y5SELo",
    "outputId": "daf5e7ca-bccd-47d5-f54d-72c7b577a40e"
   },
   "outputs": [
    {
     "data": {
      "text/plain": [
       "1    1907\n",
       "2    1907\n",
       "3    1907\n",
       "4    1907\n",
       "5    1907\n",
       "Name: Sentiment, dtype: int64"
      ]
     },
     "execution_count": 329,
     "metadata": {},
     "output_type": "execute_result"
    }
   ],
   "source": [
    "dataset_balanced['Sentiment'].value_counts()"
   ]
  },
  {
   "cell_type": "code",
   "execution_count": 330,
   "metadata": {
    "colab": {
     "base_uri": "https://localhost:8080/",
     "height": 424
    },
    "id": "np-igOOsGYZ2",
    "outputId": "99571cd8-6620-4b84-de47-1463277b8559"
   },
   "outputs": [
    {
     "data": {
      "text/html": [
       "<div>\n",
       "<style scoped>\n",
       "    .dataframe tbody tr th:only-of-type {\n",
       "        vertical-align: middle;\n",
       "    }\n",
       "\n",
       "    .dataframe tbody tr th {\n",
       "        vertical-align: top;\n",
       "    }\n",
       "\n",
       "    .dataframe thead th {\n",
       "        text-align: right;\n",
       "    }\n",
       "</style>\n",
       "<table border=\"1\" class=\"dataframe\">\n",
       "  <thead>\n",
       "    <tr style=\"text-align: right;\">\n",
       "      <th></th>\n",
       "      <th>Sentiment</th>\n",
       "      <th>comment</th>\n",
       "    </tr>\n",
       "  </thead>\n",
       "  <tbody>\n",
       "    <tr>\n",
       "      <th>3465</th>\n",
       "      <td>5</td>\n",
       "      <td>اگر به دنبال یک mp3 player کوچک و با کیفیت هست...</td>\n",
       "    </tr>\n",
       "    <tr>\n",
       "      <th>7866</th>\n",
       "      <td>4</td>\n",
       "      <td>دوستان توجه EndOfTitle سلام به دوستان گرامی دو...</td>\n",
       "    </tr>\n",
       "    <tr>\n",
       "      <th>9021</th>\n",
       "      <td>3</td>\n",
       "      <td>خیلی معمولی است و شاید از کارخونه کهنه بیرون م...</td>\n",
       "    </tr>\n",
       "    <tr>\n",
       "      <th>6696</th>\n",
       "      <td>2</td>\n",
       "      <td>ارزش خرید نداشت</td>\n",
       "    </tr>\n",
       "    <tr>\n",
       "      <th>2177</th>\n",
       "      <td>4</td>\n",
       "      <td>نسبت به قیمت و برند بودنش میرزه...</td>\n",
       "    </tr>\n",
       "    <tr>\n",
       "      <th>...</th>\n",
       "      <td>...</td>\n",
       "      <td>...</td>\n",
       "    </tr>\n",
       "    <tr>\n",
       "      <th>4387</th>\n",
       "      <td>2</td>\n",
       "      <td>موس خوبیه و اوایل مشکلی نداشت ولی بعد از چهار ...</td>\n",
       "    </tr>\n",
       "    <tr>\n",
       "      <th>2387</th>\n",
       "      <td>2</td>\n",
       "      <td>مث عکس نیس</td>\n",
       "    </tr>\n",
       "    <tr>\n",
       "      <th>2263</th>\n",
       "      <td>1</td>\n",
       "      <td>کمترین کارکرد بین هندزفریهایی که داشتم. بعد یه...</td>\n",
       "    </tr>\n",
       "    <tr>\n",
       "      <th>1692</th>\n",
       "      <td>4</td>\n",
       "      <td>خیلی قشنگه. اما آبی خیییییلی کمرنگه توی عکس مش...</td>\n",
       "    </tr>\n",
       "    <tr>\n",
       "      <th>1302</th>\n",
       "      <td>4</td>\n",
       "      <td>هنوز دارمش</td>\n",
       "    </tr>\n",
       "  </tbody>\n",
       "</table>\n",
       "<p>9535 rows × 2 columns</p>\n",
       "</div>"
      ],
      "text/plain": [
       "      Sentiment                                            comment\n",
       "3465          5  اگر به دنبال یک mp3 player کوچک و با کیفیت هست...\n",
       "7866          4  دوستان توجه EndOfTitle سلام به دوستان گرامی دو...\n",
       "9021          3  خیلی معمولی است و شاید از کارخونه کهنه بیرون م...\n",
       "6696          2                                    ارزش خرید نداشت\n",
       "2177          4                 نسبت به قیمت و برند بودنش میرزه...\n",
       "...         ...                                                ...\n",
       "4387          2  موس خوبیه و اوایل مشکلی نداشت ولی بعد از چهار ...\n",
       "2387          2                                         مث عکس نیس\n",
       "2263          1  کمترین کارکرد بین هندزفریهایی که داشتم. بعد یه...\n",
       "1692          4  خیلی قشنگه. اما آبی خیییییلی کمرنگه توی عکس مش...\n",
       "1302          4                                         هنوز دارمش\n",
       "\n",
       "[9535 rows x 2 columns]"
      ]
     },
     "execution_count": 330,
     "metadata": {},
     "output_type": "execute_result"
    }
   ],
   "source": [
    "from sklearn.utils import shuffle\n",
    "dataset_balanced = shuffle(dataset_balanced)\n",
    "dataset_balanced"
   ]
  },
  {
   "cell_type": "markdown",
   "metadata": {
    "id": "0KgijYhYfcqN"
   },
   "source": [
    "# Preprocessing"
   ]
  },
  {
   "cell_type": "code",
   "execution_count": 331,
   "metadata": {
    "id": "R3pbXWzbeM4H"
   },
   "outputs": [],
   "source": [
    "def _multiple_replace(mapping, text):\n",
    "    pattern = \"|\".join(map(re.escape, mapping.keys()))\n",
    "    return re.sub(pattern, lambda m: mapping[m.group()], str(text))"
   ]
  },
  {
   "cell_type": "code",
   "execution_count": 332,
   "metadata": {
    "id": "NXUSl9kIhDHS"
   },
   "outputs": [],
   "source": [
    "def convert_fa_numbers(input_str):\n",
    "    mapping = {\n",
    "        '۰': '0',\n",
    "        '۱': '1',\n",
    "        '۲': '2',\n",
    "        '۳': '3',\n",
    "        '۴': '4',\n",
    "        '۵': '5',\n",
    "        '۶': '6',\n",
    "        '۷': '7',\n",
    "        '۸': '8',\n",
    "        '۹': '9',\n",
    "        '.': '.',\n",
    "    }\n",
    "    return _multiple_replace(mapping, input_str)"
   ]
  },
  {
   "cell_type": "code",
   "execution_count": 333,
   "metadata": {
    "id": "CZqvNUK_HI9K"
   },
   "outputs": [],
   "source": [
    "import string\n",
    "\n",
    "def remove_special_characters(text):\n",
    "  chars_to_ignore = [\n",
    "    \",\", \"?\", \".\", \"!\", \"-\", \";\", \":\", '\"\"', \"%\", \"'\", '\"', \"�\",\n",
    "    \"#\", \"!\", \"؟\", \"?\", \"«\", \"»\", \"،\", \"(\", \")\", \"؛\", \"'ٔ\", \"٬\",'ٔ', \",\", \"?\", \n",
    "    \".\", \"!\", \"-\", \";\", \":\",'\"',\"“\", \"%\", \"‘\", \"”\", \"�\", \"–\", \"…\", \"_\", \"”\", '“', '„',\n",
    "    'ā', 'š',]\n",
    "  chars_to_ignore = chars_to_ignore + list(string.ascii_lowercase + string.digits)\n",
    "  chars_to_ignore_regex = f\"\"\"[{\"\".join(chars_to_ignore)}]\"\"\"\n",
    "  text = re.sub(chars_to_ignore_regex, '', text).lower() + \" \"\n",
    "  return text"
   ]
  },
  {
   "cell_type": "code",
   "execution_count": 334,
   "metadata": {
    "id": "Xx_A7Iy1IMQo"
   },
   "outputs": [],
   "source": [
    "def convert_special_characters(input_str):\n",
    "  chars_to_mapping = {\n",
    "    'ك': 'ک', 'دِ': 'د', 'بِ': 'ب', 'زِ': 'ز', 'ذِ': 'ذ', 'شِ': 'ش', 'سِ': 'س', 'ى': 'ی',\n",
    "    'ي': 'ی', 'أ': 'ا', 'ؤ': 'و', \"ے\": \"ی\", \"ۀ\": \"ه\", \"ﭘ\": \"پ\", \"ﮐ\": \"ک\", \"ﯽ\": \"ی\",\n",
    "    \"ﺎ\": \"ا\", \"ﺑ\": \"ب\", \"ﺘ\": \"ت\", \"ﺧ\": \"خ\", \"ﺩ\": \"د\", \"ﺱ\": \"س\", \"ﻀ\": \"ض\", \"ﻌ\": \"ع\",\n",
    "    \"ﻟ\": \"ل\", \"ﻡ\": \"م\", \"ﻢ\": \"م\", \"ﻪ\": \"ه\", \"ﻮ\": \"و\", 'ﺍ': \"ا\", 'ة': \"ه\",\n",
    "    'ﯾ': \"ی\", 'ﯿ': \"ی\", 'ﺒ': \"ب\", 'ﺖ': \"ت\", 'ﺪ': \"د\", 'ﺮ': \"ر\", 'ﺴ': \"س\", 'ﺷ': \"ش\",\n",
    "    'ﺸ': \"ش\", 'ﻋ': \"ع\", 'ﻤ': \"م\", 'ﻥ': \"ن\", 'ﻧ': \"ن\", 'ﻭ': \"و\", 'ﺭ': \"ر\", \"ﮔ\": \"گ\",        \n",
    "    \"a\": \" ای \", \"b\": \" بی \", \"c\": \" سی \", \"d\": \" دی \", \"e\": \" ایی \", \"f\": \" اف \",\n",
    "    \"g\": \" جی \", \"h\": \" اچ \", \"i\": \" آی \", \"j\": \" جی \", \"k\": \" کی \", \"l\": \" ال \",\n",
    "    \"m\": \" ام \", \"n\": \" ان \", \"o\": \" او \", \"p\": \" پی \", \"q\": \" کیو \", \"r\": \" آر \",\n",
    "    \"s\": \" اس \", \"t\": \" تی \", \"u\": \" یو \", \"v\": \" وی \", \"w\": \" دبلیو \", \"x\": \" اکس \",\n",
    "    \"y\": \" وای \", \"z\": \" زد \",\n",
    "    \"\\u200c\": \" \", \"\\u200d\": \" \", \"\\u200e\": \" \", \"\\u200f\": \" \", \"\\ufeff\": \" \",\n",
    "    }\n",
    "  return _multiple_replace(chars_to_mapping, input_str)"
   ]
  },
  {
   "cell_type": "code",
   "execution_count": 335,
   "metadata": {
    "colab": {
     "base_uri": "https://localhost:8080/"
    },
    "id": "SyRNg5SpIjjm",
    "outputId": "8b62b625-553c-4f54-cb61-7968e7426ccb"
   },
   "outputs": [
    {
     "name": "stdout",
     "output_type": "stream",
     "text": [
      "Requirement already satisfied: hazm in c:\\users\\erfan-k\\anaconda3\\lib\\site-packages (0.7.0)\n",
      "Requirement already satisfied: nltk==3.3 in c:\\users\\erfan-k\\anaconda3\\lib\\site-packages (from hazm) (3.3)\n",
      "Requirement already satisfied: six in c:\\users\\erfan-k\\anaconda3\\lib\\site-packages (from nltk==3.3->hazm) (1.16.0)\n"
     ]
    },
    {
     "name": "stderr",
     "output_type": "stream",
     "text": [
      "WARNING: Ignoring invalid distribution -atplotlib (c:\\users\\erfan-k\\anaconda3\\lib\\site-packages)\n",
      "WARNING: Ignoring invalid distribution -atplotlib (c:\\users\\erfan-k\\anaconda3\\lib\\site-packages)\n",
      "WARNING: Ignoring invalid distribution -atplotlib (c:\\users\\erfan-k\\anaconda3\\lib\\site-packages)\n",
      "WARNING: Ignoring invalid distribution -atplotlib (c:\\users\\erfan-k\\anaconda3\\lib\\site-packages)\n",
      "WARNING: Ignoring invalid distribution -atplotlib (c:\\users\\erfan-k\\anaconda3\\lib\\site-packages)\n",
      "WARNING: Ignoring invalid distribution -atplotlib (c:\\users\\erfan-k\\anaconda3\\lib\\site-packages)\n"
     ]
    }
   ],
   "source": [
    "!pip install hazm"
   ]
  },
  {
   "cell_type": "code",
   "execution_count": 336,
   "metadata": {
    "id": "hu7J_gZwhEoJ"
   },
   "outputs": [],
   "source": [
    "import hazm\n",
    "_normalizer = hazm.Normalizer()\n",
    "\n",
    "def preprocess(text):  \n",
    "  text = text.lower().strip()\n",
    "  text = _normalizer.normalize(text)\n",
    "  text = re.sub(r'\\n', ' ', text)\n",
    "  text = re.sub(r'[ـ_]', ' ', text)\n",
    "  text = re.sub(r'[ؤ إ أة ك ء]',' ',text)\n",
    "  text = re.sub(r'[\\s]{2,}', ' ', text) # delete multiple \\n \\r \\t \\f \\v\n",
    "  text = re.sub(r'(\\w)\\1{2,}', r'\\1',text) # delete multiple english charecters\n",
    "  text = re.sub(r'([ٱ-ە])\\1{2,}', r'\\1',text) # delete multiple persian charecters\n",
    "  text = remove_special_characters(text)\n",
    "  text = convert_fa_numbers(text)\n",
    "  text = convert_special_characters(text)\n",
    "  return text"
   ]
  },
  {
   "cell_type": "code",
   "execution_count": 337,
   "metadata": {
    "id": "sV7u87OthGAN"
   },
   "outputs": [],
   "source": [
    "dataset_balanced['comment'] = dataset_balanced['comment'].apply(lambda x: preprocess(x))"
   ]
  },
  {
   "cell_type": "code",
   "execution_count": 338,
   "metadata": {},
   "outputs": [],
   "source": [
    "complete_stopwords = []\n",
    "file = open('persian-stopwords.txt',encoding='utf8')\n",
    "Lines = file.readlines()\n",
    "for line in Lines:\n",
    "    complete_stopwords.append(line.strip())"
   ]
  },
  {
   "cell_type": "code",
   "execution_count": 339,
   "metadata": {
    "id": "do-XR5KQhOX4"
   },
   "outputs": [],
   "source": [
    "def stopwords_remove(x):\n",
    "    terms = x.split()\n",
    "    terms = [w for w in terms if w not in complete_stopwords]\n",
    "    sentence = ' '.join(terms)\n",
    "    return sentence"
   ]
  },
  {
   "cell_type": "code",
   "execution_count": 340,
   "metadata": {
    "colab": {
     "base_uri": "https://localhost:8080/",
     "height": 424
    },
    "id": "iKosoBY1hQFU",
    "outputId": "f8795c80-a715-41bc-b7bd-6cda351a2e7d"
   },
   "outputs": [
    {
     "data": {
      "text/html": [
       "<div>\n",
       "<style scoped>\n",
       "    .dataframe tbody tr th:only-of-type {\n",
       "        vertical-align: middle;\n",
       "    }\n",
       "\n",
       "    .dataframe tbody tr th {\n",
       "        vertical-align: top;\n",
       "    }\n",
       "\n",
       "    .dataframe thead th {\n",
       "        text-align: right;\n",
       "    }\n",
       "</style>\n",
       "<table border=\"1\" class=\"dataframe\">\n",
       "  <thead>\n",
       "    <tr style=\"text-align: right;\">\n",
       "      <th></th>\n",
       "      <th>Sentiment</th>\n",
       "      <th>comment</th>\n",
       "      <th>Refined_comment</th>\n",
       "    </tr>\n",
       "  </thead>\n",
       "  <tbody>\n",
       "    <tr>\n",
       "      <th>6696</th>\n",
       "      <td>2</td>\n",
       "      <td>ارزش خرید نداشت</td>\n",
       "      <td>ارزش خرید نداشت</td>\n",
       "    </tr>\n",
       "    <tr>\n",
       "      <th>2177</th>\n",
       "      <td>4</td>\n",
       "      <td>نسبت به قیمت و برند بودنش میرزه</td>\n",
       "      <td>نسبت قیمت برند بودنش میرزه</td>\n",
       "    </tr>\n",
       "    <tr>\n",
       "      <th>7722</th>\n",
       "      <td>4</td>\n",
       "      <td>سایز های دیگر  اگر سایز م بود حتما خریداری میک...</td>\n",
       "      <td>سایز های سایز م حتما خریداری میکردم</td>\n",
       "    </tr>\n",
       "    <tr>\n",
       "      <th>8401</th>\n",
       "      <td>3</td>\n",
       "      <td>میتوانم سفارش خود را در محل پرداخت کنم</td>\n",
       "      <td>میتوانم سفارش محل پرداخت کنم</td>\n",
       "    </tr>\n",
       "    <tr>\n",
       "      <th>3508</th>\n",
       "      <td>5</td>\n",
       "      <td>عالی از نظر کیفیت</td>\n",
       "      <td>عالی نظر کیفیت</td>\n",
       "    </tr>\n",
       "    <tr>\n",
       "      <th>...</th>\n",
       "      <td>...</td>\n",
       "      <td>...</td>\n",
       "      <td>...</td>\n",
       "    </tr>\n",
       "    <tr>\n",
       "      <th>4387</th>\n",
       "      <td>2</td>\n",
       "      <td>موس خوبیه و اوایل مشکلی نداشت ولی بعد از چهار ...</td>\n",
       "      <td>موس خوبیه اوایل مشکلی نداشت ماه دیگه اسکرولش ک...</td>\n",
       "    </tr>\n",
       "    <tr>\n",
       "      <th>2387</th>\n",
       "      <td>2</td>\n",
       "      <td>مث عکس نیس</td>\n",
       "      <td>مث عکس نیس</td>\n",
       "    </tr>\n",
       "    <tr>\n",
       "      <th>2263</th>\n",
       "      <td>1</td>\n",
       "      <td>کمترین کارکرد بین هندزفریهایی که داشتم بعد یه ...</td>\n",
       "      <td>کمترین کارکرد بین هندزفریهایی داشتم یه مدت یه ...</td>\n",
       "    </tr>\n",
       "    <tr>\n",
       "      <th>1692</th>\n",
       "      <td>4</td>\n",
       "      <td>خیلی قشنگه اما آبی خیلی کمرنگه توی عکس مشخص نی...</td>\n",
       "      <td>خیلی قشنگه آبی خیلی کمرنگه توی عکس مشخص نیست ا...</td>\n",
       "    </tr>\n",
       "    <tr>\n",
       "      <th>1302</th>\n",
       "      <td>4</td>\n",
       "      <td>هنوز دارمش</td>\n",
       "      <td>دارمش</td>\n",
       "    </tr>\n",
       "  </tbody>\n",
       "</table>\n",
       "<p>6193 rows × 3 columns</p>\n",
       "</div>"
      ],
      "text/plain": [
       "      Sentiment                                            comment  \\\n",
       "6696          2                                   ارزش خرید نداشت    \n",
       "2177          4                  نسبت به قیمت و برند بودنش میرزه     \n",
       "7722          4  سایز های دیگر  اگر سایز م بود حتما خریداری میک...   \n",
       "8401          3            میتوانم سفارش خود را در محل پرداخت کنم    \n",
       "3508          5                                 عالی از نظر کیفیت    \n",
       "...         ...                                                ...   \n",
       "4387          2  موس خوبیه و اوایل مشکلی نداشت ولی بعد از چهار ...   \n",
       "2387          2                                        مث عکس نیس    \n",
       "2263          1  کمترین کارکرد بین هندزفریهایی که داشتم بعد یه ...   \n",
       "1692          4  خیلی قشنگه اما آبی خیلی کمرنگه توی عکس مشخص نی...   \n",
       "1302          4                                        هنوز دارمش    \n",
       "\n",
       "                                        Refined_comment  \n",
       "6696                                    ارزش خرید نداشت  \n",
       "2177                         نسبت قیمت برند بودنش میرزه  \n",
       "7722                سایز های سایز م حتما خریداری میکردم  \n",
       "8401                       میتوانم سفارش محل پرداخت کنم  \n",
       "3508                                     عالی نظر کیفیت  \n",
       "...                                                 ...  \n",
       "4387  موس خوبیه اوایل مشکلی نداشت ماه دیگه اسکرولش ک...  \n",
       "2387                                         مث عکس نیس  \n",
       "2263  کمترین کارکرد بین هندزفریهایی داشتم یه مدت یه ...  \n",
       "1692  خیلی قشنگه آبی خیلی کمرنگه توی عکس مشخص نیست ا...  \n",
       "1302                                              دارمش  \n",
       "\n",
       "[6193 rows x 3 columns]"
      ]
     },
     "execution_count": 340,
     "metadata": {},
     "output_type": "execute_result"
    }
   ],
   "source": [
    "dataset_balanced['Refined_comment'] = dataset_balanced['comment'].apply(lambda x: stopwords_remove(x))\n",
    "average_len = dataset_balanced['Refined_comment'].str.len().mean()\n",
    "dataset_balanced.drop(dataset_balanced[dataset_balanced['Refined_comment'].str.len() > average_len].index, inplace=True)\n",
    "dataset_balanced"
   ]
  },
  {
   "cell_type": "code",
   "execution_count": 341,
   "metadata": {
    "colab": {
     "base_uri": "https://localhost:8080/"
    },
    "id": "1KHjxpl5hVNi",
    "outputId": "bf22f024-7efd-4c47-bb34-b99e0791c792"
   },
   "outputs": [
    {
     "name": "stdout",
     "output_type": "stream",
     "text": [
      "<class 'pandas.core.frame.DataFrame'>\n",
      "Int64Index: 6193 entries, 6696 to 1302\n",
      "Data columns (total 3 columns):\n",
      " #   Column           Non-Null Count  Dtype \n",
      "---  ------           --------------  ----- \n",
      " 0   Sentiment        6193 non-null   int64 \n",
      " 1   comment          6193 non-null   object\n",
      " 2   Refined_comment  6193 non-null   object\n",
      "dtypes: int64(1), object(2)\n",
      "memory usage: 193.5+ KB\n"
     ]
    }
   ],
   "source": [
    "dataset_balanced.info()"
   ]
  },
  {
   "cell_type": "code",
   "execution_count": 342,
   "metadata": {
    "id": "3grYOtiljCIi"
   },
   "outputs": [],
   "source": [
    "measurer = np.vectorize(len)\n",
    "res1 = measurer(dataset_balanced.values.astype(str)).max(axis=0)"
   ]
  },
  {
   "cell_type": "code",
   "execution_count": 343,
   "metadata": {
    "colab": {
     "base_uri": "https://localhost:8080/"
    },
    "id": "FWkie4bqjJoJ",
    "outputId": "f0acaa3a-e098-4eb4-d6e8-c2afe079e51f"
   },
   "outputs": [
    {
     "data": {
      "text/plain": [
       "array([  1, 150,  94])"
      ]
     },
     "execution_count": 343,
     "metadata": {},
     "output_type": "execute_result"
    }
   ],
   "source": [
    "res1"
   ]
  },
  {
   "cell_type": "markdown",
   "metadata": {
    "id": "MPof3D14gXxF"
   },
   "source": [
    "# Train Model"
   ]
  },
  {
   "cell_type": "code",
   "execution_count": 344,
   "metadata": {
    "id": "aoUSvySMiF7q"
   },
   "outputs": [],
   "source": [
    "from sklearn.naive_bayes import MultinomialNB, BernoulliNB, ComplementNB\n",
    "from sklearn.feature_extraction.text import TfidfVectorizer\n",
    "from sklearn.model_selection import train_test_split\n",
    "from sklearn import metrics"
   ]
  },
  {
   "cell_type": "code",
   "execution_count": 345,
   "metadata": {
    "id": "91UvNDdcjM8-"
   },
   "outputs": [],
   "source": [
    "tfidf = TfidfVectorizer()\n",
    "text_count_2 = tfidf.fit_transform(dataset_balanced['Refined_comment'])"
   ]
  },
  {
   "cell_type": "code",
   "execution_count": 346,
   "metadata": {
    "id": "UeqriQ6ajcST"
   },
   "outputs": [],
   "source": [
    "x_train, x_test, y_train, y_test = train_test_split(text_count_2, dataset_balanced['Sentiment'],test_size=0.2,random_state=5)"
   ]
  },
  {
   "cell_type": "code",
   "execution_count": 347,
   "metadata": {
    "id": "qlS3PEn6jtDd"
   },
   "outputs": [],
   "source": [
    "MNB = MultinomialNB()\n",
    "mnb_model = MNB.fit(x_train, y_train)"
   ]
  },
  {
   "cell_type": "markdown",
   "metadata": {
    "id": "OAyBt2HFjpnr"
   },
   "source": [
    "# Calculate Accuracy"
   ]
  },
  {
   "cell_type": "code",
   "execution_count": 348,
   "metadata": {
    "colab": {
     "base_uri": "https://localhost:8080/"
    },
    "id": "KaceLRyxjoWE",
    "outputId": "d6b7f97e-890e-4298-a464-4af79ed0dade"
   },
   "outputs": [
    {
     "name": "stdout",
     "output_type": "stream",
     "text": [
      "accuracy_score_multi_nomial_naive_bayes = 76.84%\n"
     ]
    }
   ],
   "source": [
    "accuracy_score_mnb = metrics.accuracy_score(MNB.predict(x_test), y_test)\n",
    "print('accuracy_score_multi_nomial_naive_bayes = '+str('{:4.2f}'.format(accuracy_score_mnb*100))+'%')"
   ]
  },
  {
   "cell_type": "markdown",
   "metadata": {
    "id": "maiY4WLMkLtU"
   },
   "source": [
    "# Evaluate Model"
   ]
  },
  {
   "cell_type": "code",
   "execution_count": 349,
   "metadata": {
    "colab": {
     "base_uri": "https://localhost:8080/"
    },
    "id": "pTaos4o3Kv8o",
    "outputId": "863d797e-20bf-49ae-ea61-017a53d94194"
   },
   "outputs": [
    {
     "data": {
      "text/plain": [
       "array([[242,  10,   3,   2,  13],\n",
       "       [ 45, 117,   7,  17,   4],\n",
       "       [ 11,   8, 144,  21,  14],\n",
       "       [ 14,  14,   5, 161,  53],\n",
       "       [  7,   4,   4,  31, 288]], dtype=int64)"
      ]
     },
     "execution_count": 349,
     "metadata": {},
     "output_type": "execute_result"
    }
   ],
   "source": [
    "mnb_cm = metrics.confusion_matrix(y_test, MNB.predict(x_test))\n",
    "\n",
    "mnb_cm"
   ]
  },
  {
   "cell_type": "code",
   "execution_count": 350,
   "metadata": {
    "colab": {
     "base_uri": "https://localhost:8080/",
     "height": 500
    },
    "id": "h9vBfi27j_Vm",
    "outputId": "5b61eca0-f16e-4379-90b3-2daf83722a8b"
   },
   "outputs": [
    {
     "data": {
      "text/plain": [
       "<AxesSubplot:>"
      ]
     },
     "execution_count": 350,
     "metadata": {},
     "output_type": "execute_result"
    },
    {
     "data": {
      "image/png": "[encoded data removed]",
      "text/plain": [
       "<Figure size 864x576 with 2 Axes>"
      ]
     },
     "metadata": {
      "needs_background": "light"
     },
     "output_type": "display_data"
    }
   ],
   "source": [
    "cmap1 = sns.diverging_palette(260,-10,s=50, l=75, n=5, as_cmap=True)\n",
    "plt.subplots(figsize=(12,8))\n",
    "sns.heatmap(mnb_cm/np.sum(mnb_cm), cmap = cmap1, annot = True, annot_kws = {'size':15})"
   ]
  },
  {
   "cell_type": "markdown",
   "metadata": {
    "id": "utUD3_-ikt66"
   },
   "source": [
    "# Test"
   ]
  },
  {
   "cell_type": "code",
   "execution_count": 352,
   "metadata": {
    "colab": {
     "base_uri": "https://localhost:8080/"
    },
    "id": "Lrp_EnynQleh",
    "outputId": "a9d49091-aacf-436a-ce07-305c371081b9"
   },
   "outputs": [
    {
     "data": {
      "text/plain": [
       "array([3], dtype=int64)"
      ]
     },
     "execution_count": 352,
     "metadata": {},
     "output_type": "execute_result"
    }
   ],
   "source": [
    "mnb_model.predict(tfidf.transform([\"نظری ندارم\"]))"
   ]
  }
 ],
 "metadata": {
  "colab": {
   "collapsed_sections": [],
   "provenance": []
  },
  "kernelspec": {
   "display_name": "Python 3 (ipykernel)",
   "language": "python",
   "name": "python3"
  },
  "language_info": {
   "codemirror_mode": {
    "name": "ipython",
    "version": 3
   },
   "file_extension": ".py",
   "mimetype": "text/x-python",
   "name": "python",
   "nbconvert_exporter": "python",
   "pygments_lexer": "ipython3",
   "version": "3.9.12"
  }
 },
 "nbformat": 4,
 "nbformat_minor": 1
}
